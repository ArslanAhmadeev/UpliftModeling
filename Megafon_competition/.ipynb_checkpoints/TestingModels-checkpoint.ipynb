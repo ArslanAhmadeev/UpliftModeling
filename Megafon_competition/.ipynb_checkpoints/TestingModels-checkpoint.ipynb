{
 "cells": [
  {
   "cell_type": "code",
   "execution_count": 1,
   "metadata": {
    "colab": {
     "base_uri": "https://localhost:8080/"
    },
    "executionInfo": {
     "elapsed": 5208,
     "status": "ok",
     "timestamp": 1623001928197,
     "user": {
      "displayName": "Арслан Ахмадеев",
      "photoUrl": "",
      "userId": "08442404814002593130"
     },
     "user_tz": -180
    },
    "id": "-OXg2jILyGld",
    "outputId": "2a57db64-dc3d-4545-a83a-8466875e5974"
   },
   "outputs": [
    {
     "name": "stderr",
     "output_type": "stream",
     "text": [
      "C:\\Users\\ahmad\\Anaconda3\\lib\\importlib\\_bootstrap.py:219: RuntimeWarning: numpy.ufunc size changed, may indicate binary incompatibility. Expected 192 from C header, got 216 from PyObject\n",
      "  return f(*args, **kwds)\n",
      "C:\\Users\\ahmad\\Anaconda3\\lib\\importlib\\_bootstrap.py:219: RuntimeWarning: numpy.ufunc size changed, may indicate binary incompatibility. Expected 192 from C header, got 216 from PyObject\n",
      "  return f(*args, **kwds)\n",
      "C:\\Users\\ahmad\\Anaconda3\\lib\\importlib\\_bootstrap.py:219: RuntimeWarning: numpy.ufunc size changed, may indicate binary incompatibility. Expected 192 from C header, got 216 from PyObject\n",
      "  return f(*args, **kwds)\n",
      "C:\\Users\\ahmad\\Anaconda3\\lib\\importlib\\_bootstrap.py:219: RuntimeWarning: numpy.ufunc size changed, may indicate binary incompatibility. Expected 192 from C header, got 216 from PyObject\n",
      "  return f(*args, **kwds)\n",
      "numpy.ufunc size changed, may indicate binary incompatibility. Expected 192 from C header, got 216 from PyObject\n"
     ]
    }
   ],
   "source": [
    "import pandas as pd\n",
    "import numpy as np\n",
    "import seaborn as sns\n",
    "from matplotlib import pyplot as plt\n",
    "from fastprogress.fastprogress import progress_bar\n",
    "import time\n",
    "from IPython.display import Image\n",
    "\n",
    "import catboost\n",
    "from catboost import CatBoostClassifier, Pool\n",
    "\n",
    "from sklift.models import SoloModel, TwoModels, ClassTransformation\n",
    "from sklift.viz import plot_uplift_preds, plot_qini_curve\n",
    "from sklift.metrics.metrics import qini_auc_score\n",
    "\n",
    "from sklearn.preprocessing import LabelEncoder, PolynomialFeatures, KBinsDiscretizer\n",
    "from sklearn.decomposition import PCA\n",
    "from sklearn.model_selection import train_test_split, KFold\n",
    "from sklearn.linear_model import LogisticRegression\n",
    "from sklearn.ensemble import RandomForestClassifier\n",
    "from sklearn.base import BaseEstimator, ClassifierMixin\n",
    "\n",
    "from causalml.inference.tree import UpliftTreeClassifier, UpliftRandomForestClassifier\n",
    "from causalml.inference.tree import uplift_tree_string, uplift_tree_plot\n",
    "\n",
    "import os"
   ]
  },
  {
   "cell_type": "code",
   "execution_count": 2,
   "metadata": {
    "colab": {
     "base_uri": "https://localhost:8080/"
    },
    "executionInfo": {
     "elapsed": 10,
     "status": "ok",
     "timestamp": 1623001928198,
     "user": {
      "displayName": "Арслан Ахмадеев",
      "photoUrl": "",
      "userId": "08442404814002593130"
     },
     "user_tz": -180
    },
    "id": "EyAE3-cNx5Lc",
    "outputId": "d495bf4f-f367-4ab9-b456-3dedd516faed"
   },
   "outputs": [
    {
     "name": "stdout",
     "output_type": "stream",
     "text": [
      "Drive already mounted at /content/gdrive; to attempt to forcibly remount, call drive.mount(\"/content/gdrive\", force_remount=True).\n"
     ]
    }
   ],
   "source": [
    "# from google.colab import drive \n",
    "# drive.mount('/content/gdrive')"
   ]
  },
  {
   "cell_type": "code",
   "execution_count": 2,
   "metadata": {
    "executionInfo": {
     "elapsed": 8,
     "status": "ok",
     "timestamp": 1623001928200,
     "user": {
      "displayName": "Арслан Ахмадеев",
      "photoUrl": "",
      "userId": "08442404814002593130"
     },
     "user_tz": -180
    },
    "id": "pjp4E3Pbx0pB"
   },
   "outputs": [],
   "source": [
    "RANDOM_SEED = 42\n",
    "#INPUT_DIR_PATH = 'gdrive/My Drive/Colab Notebooks/Uplift modeling/Megafon_competition/' #For Google Collabratory\n",
    "INPUT_DIR_PATH = ''"
   ]
  },
  {
   "cell_type": "code",
   "execution_count": 3,
   "metadata": {},
   "outputs": [],
   "source": [
    "def optimize_memory(df):\n",
    "    if isinstance(df, pd.DataFrame):\n",
    "        for col in df.columns:\n",
    "            if df[col].dtype in [np.float64, np.float32, np.float16]:\n",
    "                df[col] = pd.to_numeric(df[col], downcast='float')\n",
    "            elif df[col].dtype in [np.int64, np.int32, np.int16]:\n",
    "                df[col] = pd.to_numeric(df[col], downcast='integer')\n",
    "            elif df[col].dtype == object:\n",
    "                num_unique_values = len(df[col].unique())\n",
    "                num_total_values = len(df[col])\n",
    "                if num_unique_values / num_total_values < 0.5:\n",
    "                    df[col] = df[col].astype('category')\n",
    "    else:\n",
    "        print('df must be a pandas dataframe')\n",
    "        \n",
    "    return df"
   ]
  },
  {
   "cell_type": "code",
   "execution_count": 4,
   "metadata": {
    "colab": {
     "base_uri": "https://localhost:8080/",
     "height": 226
    },
    "executionInfo": {
     "elapsed": 13201,
     "status": "ok",
     "timestamp": 1623001942505,
     "user": {
      "displayName": "Арслан Ахмадеев",
      "photoUrl": "",
      "userId": "08442404814002593130"
     },
     "user_tz": -180
    },
    "id": "HTnHs_1gx0pC",
    "outputId": "b8f9dd15-de05-405b-a2d8-3eaf7589660b"
   },
   "outputs": [
    {
     "data": {
      "text/html": [
       "<div>\n",
       "<style scoped>\n",
       "    .dataframe tbody tr th:only-of-type {\n",
       "        vertical-align: middle;\n",
       "    }\n",
       "\n",
       "    .dataframe tbody tr th {\n",
       "        vertical-align: top;\n",
       "    }\n",
       "\n",
       "    .dataframe thead th {\n",
       "        text-align: right;\n",
       "    }\n",
       "</style>\n",
       "<table border=\"1\" class=\"dataframe\">\n",
       "  <thead>\n",
       "    <tr style=\"text-align: right;\">\n",
       "      <th></th>\n",
       "      <th>id</th>\n",
       "      <th>treatment_group</th>\n",
       "      <th>X_1</th>\n",
       "      <th>X_2</th>\n",
       "      <th>X_3</th>\n",
       "      <th>X_4</th>\n",
       "      <th>X_5</th>\n",
       "      <th>X_6</th>\n",
       "      <th>X_7</th>\n",
       "      <th>X_8</th>\n",
       "      <th>...</th>\n",
       "      <th>X_42</th>\n",
       "      <th>X_43</th>\n",
       "      <th>X_44</th>\n",
       "      <th>X_45</th>\n",
       "      <th>X_46</th>\n",
       "      <th>X_47</th>\n",
       "      <th>X_48</th>\n",
       "      <th>X_49</th>\n",
       "      <th>X_50</th>\n",
       "      <th>conversion</th>\n",
       "    </tr>\n",
       "  </thead>\n",
       "  <tbody>\n",
       "    <tr>\n",
       "      <th>442453</th>\n",
       "      <td>442453</td>\n",
       "      <td>treatment</td>\n",
       "      <td>-56.180557</td>\n",
       "      <td>0.952968</td>\n",
       "      <td>-18.142288</td>\n",
       "      <td>73.180199</td>\n",
       "      <td>27.657297</td>\n",
       "      <td>39.464897</td>\n",
       "      <td>55.633736</td>\n",
       "      <td>-22.544039</td>\n",
       "      <td>...</td>\n",
       "      <td>90.610756</td>\n",
       "      <td>-100.187477</td>\n",
       "      <td>-1.937650</td>\n",
       "      <td>-3.954277</td>\n",
       "      <td>1.929850</td>\n",
       "      <td>-259.163940</td>\n",
       "      <td>-86.970284</td>\n",
       "      <td>-36.192406</td>\n",
       "      <td>15.152114</td>\n",
       "      <td>0</td>\n",
       "    </tr>\n",
       "    <tr>\n",
       "      <th>20505</th>\n",
       "      <td>20505</td>\n",
       "      <td>treatment</td>\n",
       "      <td>61.806751</td>\n",
       "      <td>1.386028</td>\n",
       "      <td>10.360880</td>\n",
       "      <td>36.606617</td>\n",
       "      <td>-20.967712</td>\n",
       "      <td>-0.952889</td>\n",
       "      <td>-180.431137</td>\n",
       "      <td>22.785810</td>\n",
       "      <td>...</td>\n",
       "      <td>-144.439392</td>\n",
       "      <td>-200.746841</td>\n",
       "      <td>-0.923995</td>\n",
       "      <td>6.778615</td>\n",
       "      <td>0.993122</td>\n",
       "      <td>72.599846</td>\n",
       "      <td>188.973007</td>\n",
       "      <td>184.167175</td>\n",
       "      <td>-18.317736</td>\n",
       "      <td>0</td>\n",
       "    </tr>\n",
       "    <tr>\n",
       "      <th>506008</th>\n",
       "      <td>506008</td>\n",
       "      <td>control</td>\n",
       "      <td>-26.415949</td>\n",
       "      <td>0.858438</td>\n",
       "      <td>-12.058073</td>\n",
       "      <td>-20.891941</td>\n",
       "      <td>-26.106562</td>\n",
       "      <td>105.109344</td>\n",
       "      <td>6.530606</td>\n",
       "      <td>31.763647</td>\n",
       "      <td>...</td>\n",
       "      <td>94.690033</td>\n",
       "      <td>-43.361294</td>\n",
       "      <td>-0.411073</td>\n",
       "      <td>88.074387</td>\n",
       "      <td>0.619889</td>\n",
       "      <td>203.156372</td>\n",
       "      <td>74.397888</td>\n",
       "      <td>-118.171013</td>\n",
       "      <td>0.887410</td>\n",
       "      <td>0</td>\n",
       "    </tr>\n",
       "    <tr>\n",
       "      <th>574747</th>\n",
       "      <td>574747</td>\n",
       "      <td>control</td>\n",
       "      <td>-107.862762</td>\n",
       "      <td>1.849309</td>\n",
       "      <td>1.608389</td>\n",
       "      <td>26.810724</td>\n",
       "      <td>95.637283</td>\n",
       "      <td>-112.436172</td>\n",
       "      <td>2.184126</td>\n",
       "      <td>-37.592453</td>\n",
       "      <td>...</td>\n",
       "      <td>-223.172745</td>\n",
       "      <td>106.024727</td>\n",
       "      <td>0.304757</td>\n",
       "      <td>17.002783</td>\n",
       "      <td>0.178592</td>\n",
       "      <td>123.956902</td>\n",
       "      <td>-30.268379</td>\n",
       "      <td>260.005585</td>\n",
       "      <td>44.599415</td>\n",
       "      <td>1</td>\n",
       "    </tr>\n",
       "    <tr>\n",
       "      <th>268017</th>\n",
       "      <td>268017</td>\n",
       "      <td>treatment</td>\n",
       "      <td>6.937796</td>\n",
       "      <td>-0.394112</td>\n",
       "      <td>-10.884387</td>\n",
       "      <td>24.134474</td>\n",
       "      <td>2.444424</td>\n",
       "      <td>75.540260</td>\n",
       "      <td>-18.532982</td>\n",
       "      <td>-2.794616</td>\n",
       "      <td>...</td>\n",
       "      <td>-104.976349</td>\n",
       "      <td>119.745415</td>\n",
       "      <td>0.073944</td>\n",
       "      <td>49.193569</td>\n",
       "      <td>0.073242</td>\n",
       "      <td>-137.971176</td>\n",
       "      <td>-27.368479</td>\n",
       "      <td>131.811050</td>\n",
       "      <td>12.168724</td>\n",
       "      <td>0</td>\n",
       "    </tr>\n",
       "  </tbody>\n",
       "</table>\n",
       "<p>5 rows × 53 columns</p>\n",
       "</div>"
      ],
      "text/plain": [
       "            id treatment_group         X_1       X_2        X_3        X_4  \\\n",
       "442453  442453       treatment  -56.180557  0.952968 -18.142288  73.180199   \n",
       "20505    20505       treatment   61.806751  1.386028  10.360880  36.606617   \n",
       "506008  506008         control  -26.415949  0.858438 -12.058073 -20.891941   \n",
       "574747  574747         control -107.862762  1.849309   1.608389  26.810724   \n",
       "268017  268017       treatment    6.937796 -0.394112 -10.884387  24.134474   \n",
       "\n",
       "              X_5         X_6         X_7        X_8  ...        X_42  \\\n",
       "442453  27.657297   39.464897   55.633736 -22.544039  ...   90.610756   \n",
       "20505  -20.967712   -0.952889 -180.431137  22.785810  ... -144.439392   \n",
       "506008 -26.106562  105.109344    6.530606  31.763647  ...   94.690033   \n",
       "574747  95.637283 -112.436172    2.184126 -37.592453  ... -223.172745   \n",
       "268017   2.444424   75.540260  -18.532982  -2.794616  ... -104.976349   \n",
       "\n",
       "              X_43      X_44       X_45      X_46        X_47        X_48  \\\n",
       "442453 -100.187477 -1.937650  -3.954277  1.929850 -259.163940  -86.970284   \n",
       "20505  -200.746841 -0.923995   6.778615  0.993122   72.599846  188.973007   \n",
       "506008  -43.361294 -0.411073  88.074387  0.619889  203.156372   74.397888   \n",
       "574747  106.024727  0.304757  17.002783  0.178592  123.956902  -30.268379   \n",
       "268017  119.745415  0.073944  49.193569  0.073242 -137.971176  -27.368479   \n",
       "\n",
       "              X_49       X_50  conversion  \n",
       "442453  -36.192406  15.152114           0  \n",
       "20505   184.167175 -18.317736           0  \n",
       "506008 -118.171013   0.887410           0  \n",
       "574747  260.005585  44.599415           1  \n",
       "268017  131.811050  12.168724           0  \n",
       "\n",
       "[5 rows x 53 columns]"
      ]
     },
     "execution_count": 4,
     "metadata": {},
     "output_type": "execute_result"
    }
   ],
   "source": [
    "train = pd.read_csv(INPUT_DIR_PATH+'data/train.csv')\n",
    "train = optimize_memory(train)\n",
    "train.sample(5)"
   ]
  },
  {
   "cell_type": "code",
   "execution_count": 5,
   "metadata": {
    "colab": {
     "base_uri": "https://localhost:8080/",
     "height": 226
    },
    "executionInfo": {
     "elapsed": 19695,
     "status": "ok",
     "timestamp": 1623001962193,
     "user": {
      "displayName": "Арслан Ахмадеев",
      "photoUrl": "",
      "userId": "08442404814002593130"
     },
     "user_tz": -180
    },
    "id": "wAiwf4zUx0pE",
    "outputId": "11d0b699-86fa-4235-ff3a-cdad9f358b21"
   },
   "outputs": [
    {
     "data": {
      "text/html": [
       "<div>\n",
       "<style scoped>\n",
       "    .dataframe tbody tr th:only-of-type {\n",
       "        vertical-align: middle;\n",
       "    }\n",
       "\n",
       "    .dataframe tbody tr th {\n",
       "        vertical-align: top;\n",
       "    }\n",
       "\n",
       "    .dataframe thead th {\n",
       "        text-align: right;\n",
       "    }\n",
       "</style>\n",
       "<table border=\"1\" class=\"dataframe\">\n",
       "  <thead>\n",
       "    <tr style=\"text-align: right;\">\n",
       "      <th></th>\n",
       "      <th>id</th>\n",
       "      <th>treatment_group</th>\n",
       "      <th>X_1</th>\n",
       "      <th>X_2</th>\n",
       "      <th>X_3</th>\n",
       "      <th>X_4</th>\n",
       "      <th>X_5</th>\n",
       "      <th>X_6</th>\n",
       "      <th>X_7</th>\n",
       "      <th>X_8</th>\n",
       "      <th>...</th>\n",
       "      <th>X_41</th>\n",
       "      <th>X_42</th>\n",
       "      <th>X_43</th>\n",
       "      <th>X_44</th>\n",
       "      <th>X_45</th>\n",
       "      <th>X_46</th>\n",
       "      <th>X_47</th>\n",
       "      <th>X_48</th>\n",
       "      <th>X_49</th>\n",
       "      <th>X_50</th>\n",
       "    </tr>\n",
       "  </thead>\n",
       "  <tbody>\n",
       "    <tr>\n",
       "      <th>830531</th>\n",
       "      <td>830531</td>\n",
       "      <td>treatment</td>\n",
       "      <td>-81.194748</td>\n",
       "      <td>1.326235</td>\n",
       "      <td>-51.798080</td>\n",
       "      <td>-95.380638</td>\n",
       "      <td>97.529228</td>\n",
       "      <td>-161.817245</td>\n",
       "      <td>38.366238</td>\n",
       "      <td>34.324001</td>\n",
       "      <td>...</td>\n",
       "      <td>-154.009460</td>\n",
       "      <td>133.415802</td>\n",
       "      <td>-62.168133</td>\n",
       "      <td>0.248655</td>\n",
       "      <td>9.819640</td>\n",
       "      <td>1.521100</td>\n",
       "      <td>-115.090012</td>\n",
       "      <td>-91.134880</td>\n",
       "      <td>-220.918762</td>\n",
       "      <td>20.540064</td>\n",
       "    </tr>\n",
       "    <tr>\n",
       "      <th>830176</th>\n",
       "      <td>830176</td>\n",
       "      <td>control</td>\n",
       "      <td>-22.329161</td>\n",
       "      <td>0.765813</td>\n",
       "      <td>-3.304163</td>\n",
       "      <td>28.525257</td>\n",
       "      <td>76.528717</td>\n",
       "      <td>-140.306320</td>\n",
       "      <td>-44.908798</td>\n",
       "      <td>-31.804420</td>\n",
       "      <td>...</td>\n",
       "      <td>83.802010</td>\n",
       "      <td>-123.271942</td>\n",
       "      <td>552.829529</td>\n",
       "      <td>-1.088101</td>\n",
       "      <td>6.022931</td>\n",
       "      <td>0.493233</td>\n",
       "      <td>555.241211</td>\n",
       "      <td>-256.953949</td>\n",
       "      <td>154.935776</td>\n",
       "      <td>4.048697</td>\n",
       "    </tr>\n",
       "    <tr>\n",
       "      <th>892444</th>\n",
       "      <td>892444</td>\n",
       "      <td>control</td>\n",
       "      <td>-74.239288</td>\n",
       "      <td>-0.794834</td>\n",
       "      <td>24.024433</td>\n",
       "      <td>-64.083687</td>\n",
       "      <td>27.499588</td>\n",
       "      <td>-180.594223</td>\n",
       "      <td>78.328720</td>\n",
       "      <td>-14.129061</td>\n",
       "      <td>...</td>\n",
       "      <td>183.589188</td>\n",
       "      <td>-153.985107</td>\n",
       "      <td>-352.723846</td>\n",
       "      <td>0.234002</td>\n",
       "      <td>-38.852322</td>\n",
       "      <td>-0.344956</td>\n",
       "      <td>243.897568</td>\n",
       "      <td>32.750732</td>\n",
       "      <td>111.250031</td>\n",
       "      <td>19.594501</td>\n",
       "    </tr>\n",
       "    <tr>\n",
       "      <th>281187</th>\n",
       "      <td>281187</td>\n",
       "      <td>control</td>\n",
       "      <td>33.106964</td>\n",
       "      <td>-1.186959</td>\n",
       "      <td>34.371841</td>\n",
       "      <td>-21.730700</td>\n",
       "      <td>-6.167642</td>\n",
       "      <td>72.802086</td>\n",
       "      <td>62.457581</td>\n",
       "      <td>-65.771927</td>\n",
       "      <td>...</td>\n",
       "      <td>75.881317</td>\n",
       "      <td>24.324451</td>\n",
       "      <td>-299.361938</td>\n",
       "      <td>1.505750</td>\n",
       "      <td>-140.216400</td>\n",
       "      <td>-0.820709</td>\n",
       "      <td>-635.381775</td>\n",
       "      <td>-20.292088</td>\n",
       "      <td>-43.860207</td>\n",
       "      <td>1.607379</td>\n",
       "    </tr>\n",
       "    <tr>\n",
       "      <th>502933</th>\n",
       "      <td>502933</td>\n",
       "      <td>control</td>\n",
       "      <td>-1.709405</td>\n",
       "      <td>0.506627</td>\n",
       "      <td>-52.931793</td>\n",
       "      <td>69.809387</td>\n",
       "      <td>-50.666149</td>\n",
       "      <td>239.976105</td>\n",
       "      <td>22.342911</td>\n",
       "      <td>-166.356583</td>\n",
       "      <td>...</td>\n",
       "      <td>-83.791008</td>\n",
       "      <td>278.687256</td>\n",
       "      <td>122.152306</td>\n",
       "      <td>-0.147752</td>\n",
       "      <td>-4.052470</td>\n",
       "      <td>1.038802</td>\n",
       "      <td>218.083282</td>\n",
       "      <td>15.480124</td>\n",
       "      <td>-239.445602</td>\n",
       "      <td>2.005889</td>\n",
       "    </tr>\n",
       "  </tbody>\n",
       "</table>\n",
       "<p>5 rows × 52 columns</p>\n",
       "</div>"
      ],
      "text/plain": [
       "            id treatment_group        X_1       X_2        X_3        X_4  \\\n",
       "830531  830531       treatment -81.194748  1.326235 -51.798080 -95.380638   \n",
       "830176  830176         control -22.329161  0.765813  -3.304163  28.525257   \n",
       "892444  892444         control -74.239288 -0.794834  24.024433 -64.083687   \n",
       "281187  281187         control  33.106964 -1.186959  34.371841 -21.730700   \n",
       "502933  502933         control  -1.709405  0.506627 -52.931793  69.809387   \n",
       "\n",
       "              X_5         X_6        X_7         X_8  ...        X_41  \\\n",
       "830531  97.529228 -161.817245  38.366238   34.324001  ... -154.009460   \n",
       "830176  76.528717 -140.306320 -44.908798  -31.804420  ...   83.802010   \n",
       "892444  27.499588 -180.594223  78.328720  -14.129061  ...  183.589188   \n",
       "281187  -6.167642   72.802086  62.457581  -65.771927  ...   75.881317   \n",
       "502933 -50.666149  239.976105  22.342911 -166.356583  ...  -83.791008   \n",
       "\n",
       "              X_42        X_43      X_44        X_45      X_46        X_47  \\\n",
       "830531  133.415802  -62.168133  0.248655    9.819640  1.521100 -115.090012   \n",
       "830176 -123.271942  552.829529 -1.088101    6.022931  0.493233  555.241211   \n",
       "892444 -153.985107 -352.723846  0.234002  -38.852322 -0.344956  243.897568   \n",
       "281187   24.324451 -299.361938  1.505750 -140.216400 -0.820709 -635.381775   \n",
       "502933  278.687256  122.152306 -0.147752   -4.052470  1.038802  218.083282   \n",
       "\n",
       "              X_48        X_49       X_50  \n",
       "830531  -91.134880 -220.918762  20.540064  \n",
       "830176 -256.953949  154.935776   4.048697  \n",
       "892444   32.750732  111.250031  19.594501  \n",
       "281187  -20.292088  -43.860207   1.607379  \n",
       "502933   15.480124 -239.445602   2.005889  \n",
       "\n",
       "[5 rows x 52 columns]"
      ]
     },
     "execution_count": 5,
     "metadata": {},
     "output_type": "execute_result"
    }
   ],
   "source": [
    "test = pd.read_csv(INPUT_DIR_PATH+'data/test.csv')\n",
    "test = optimize_memory(test)\n",
    "test.sample(5)"
   ]
  },
  {
   "cell_type": "markdown",
   "metadata": {
    "id": "RyCFf94wx0pO"
   },
   "source": [
    "# Preprocessing (sklift models)"
   ]
  },
  {
   "cell_type": "code",
   "execution_count": 6,
   "metadata": {
    "executionInfo": {
     "elapsed": 265,
     "status": "ok",
     "timestamp": 1623002024424,
     "user": {
      "displayName": "Арслан Ахмадеев",
      "photoUrl": "",
      "userId": "08442404814002593130"
     },
     "user_tz": -180
    },
    "id": "BItsYfGGx0pO"
   },
   "outputs": [],
   "source": [
    "X = train.drop(['id', 'conversion'], axis=1)\n",
    "X['treatment_group'] = X['treatment_group'].map({'treatment':1, 'control':0}).astype(float)\n",
    "y = train['conversion'].copy()\n",
    "treatment = X['treatment_group'].copy()"
   ]
  },
  {
   "cell_type": "code",
   "execution_count": 7,
   "metadata": {
    "colab": {
     "base_uri": "https://localhost:8080/"
    },
    "executionInfo": {
     "elapsed": 885,
     "status": "ok",
     "timestamp": 1623002026383,
     "user": {
      "displayName": "Арслан Ахмадеев",
      "photoUrl": "",
      "userId": "08442404814002593130"
     },
     "user_tz": -180
    },
    "id": "5zaLcOdsx0pP",
    "outputId": "9a66aef1-6b50-4527-be19-560f454fa775"
   },
   "outputs": [
    {
     "name": "stderr",
     "output_type": "stream",
     "text": [
      "\n",
      "A value is trying to be set on a copy of a slice from a DataFrame\n",
      "\n",
      "See the caveats in the documentation: https://pandas.pydata.org/pandas-docs/stable/user_guide/indexing.html#returning-a-view-versus-a-copy\n"
     ]
    }
   ],
   "source": [
    "X_train, X_val, y_train, y_val = train_test_split(X, y, test_size=0.3, random_state=RANDOM_SEED)\n",
    "\n",
    "treatment_train = X_train['treatment_group'].copy()\n",
    "treatment_val = X_val['treatment_group'].copy()\n",
    "\n",
    "X_train.drop(['treatment_group'], inplace=True, axis=1)\n",
    "X_val.drop(['treatment_group'], inplace=True, axis=1)\n",
    "\n",
    "X_test = test.drop(['id', 'treatment_group'], axis=1) \n",
    "\n",
    "X.drop(['treatment_group'], axis=1, inplace=True)"
   ]
  },
  {
   "cell_type": "markdown",
   "metadata": {
    "id": "yOYBsEP4x0pP"
   },
   "source": [
    "# Models\n",
    "# Solo Model (S-learner)"
   ]
  },
  {
   "cell_type": "code",
   "execution_count": 9,
   "metadata": {},
   "outputs": [],
   "source": [
    "def show_qini_score(prediction, y, treatment):\n",
    "    return 'qini score ' + str(qini_auc_score(y, prediction, treatment))"
   ]
  },
  {
   "cell_type": "code",
   "execution_count": 15,
   "metadata": {
    "colab": {
     "referenced_widgets": [
      "a42aa9a49561437ebd8244cde97900b2"
     ]
    },
    "id": "oqjjtQ48x0pQ",
    "outputId": "cd10d223-7877-46d5-b290-a25fe7d76cda"
   },
   "outputs": [
    {
     "name": "stdout",
     "output_type": "stream",
     "text": [
      "qini score 0.24014821124049487\n",
      "Wall time: 2min 39s\n"
     ]
    }
   ],
   "source": [
    "%%time\n",
    "\n",
    "model = CatBoostClassifier(verbose=0, random_seed=RANDOM_SEED)\n",
    "solo_model = SoloModel(model)\n",
    "solo_model.fit(X_train, y_train, treatment_train)\n",
    "\n",
    "print(show_qini_score(solo_model.predict(X_val), y_val, treatment_val))"
   ]
  },
  {
   "cell_type": "code",
   "execution_count": 16,
   "metadata": {
    "id": "cJ0sYHRRx0pS",
    "outputId": "5622a427-df13-47d8-d38e-3771d29b336b"
   },
   "outputs": [
    {
     "data": {
      "image/png": "[encoded data removed]",
      "text/plain": [
       "<Figure size 1440x504 with 3 Axes>"
      ]
     },
     "metadata": {},
     "output_type": "display_data"
    }
   ],
   "source": [
    "treatment_preds = solo_model.trmnt_preds_\n",
    "control_preds = solo_model.ctrl_preds_\n",
    "\n",
    "plot_uplift_preds(treatment_preds, control_preds);"
   ]
  },
  {
   "cell_type": "markdown",
   "metadata": {
    "id": "L8lDBDqhx0pT"
   },
   "source": [
    "# Two models (T-learner)"
   ]
  },
  {
   "cell_type": "code",
   "execution_count": 17,
   "metadata": {
    "id": "SvtUks3Qx0pT",
    "outputId": "81c16692-0a01-4dae-8348-86ba649818dc"
   },
   "outputs": [
    {
     "name": "stdout",
     "output_type": "stream",
     "text": [
      "qini score 0.24104986490202612\n",
      "Wall time: 2min 56s\n"
     ]
    }
   ],
   "source": [
    "%%time\n",
    "\n",
    "treatment_model = CatBoostClassifier(silent=True)\n",
    "control_model = CatBoostClassifier(silent=True)\n",
    "\n",
    "two_models = TwoModels(treatment_model, control_model)\n",
    "two_models.fit(X_train, y_train, treatment_train)\n",
    "\n",
    "print(show_qini_score(two_models.predict(X_val), y_val, treatment_val))"
   ]
  },
  {
   "cell_type": "markdown",
   "metadata": {},
   "source": [
    "## Two models on LogisticRegression"
   ]
  },
  {
   "cell_type": "code",
   "execution_count": 10,
   "metadata": {},
   "outputs": [
    {
     "name": "stdout",
     "output_type": "stream",
     "text": [
      "qini score 0.036721810168853605\n",
      "Wall time: 33.1 s\n"
     ]
    }
   ],
   "source": [
    "%%time\n",
    "\n",
    "control_model = LogisticRegression(max_iter=2000, random_state=RANDOM_SEED)\n",
    "treatment_model = LogisticRegression(max_iter=2000, random_state=RANDOM_SEED)\n",
    "\n",
    "two_log_reg_models = TwoModels(estimator_ctrl=control_model, estimator_trmnt=treatment_model, method='vanilla')\n",
    "two_log_reg_models.fit(X_train, y_train, treatment_train)\n",
    "\n",
    "print(show_qini_score(two_log_reg_models.predict(X_val), y_val, treatment_val))"
   ]
  },
  {
   "cell_type": "markdown",
   "metadata": {},
   "source": [
    "## Two models on RandomForestClassifier"
   ]
  },
  {
   "cell_type": "code",
   "execution_count": 11,
   "metadata": {},
   "outputs": [
    {
     "name": "stdout",
     "output_type": "stream",
     "text": [
      "qini score 0.20384350006188717\n"
     ]
    }
   ],
   "source": [
    "control_model = RandomForestClassifier(random_state=RANDOM_SEED, max_features=7, n_estimators=200)\n",
    "treatment_model = RandomForestClassifier(random_state=RANDOM_SEED, max_features=7, n_estimators=200)\n",
    "\n",
    "two_rf_models = TwoModels(estimator_ctrl=control_model, estimator_trmnt=treatment_model, method='vanilla')\n",
    "two_rf_models.fit(X_train, y_train, treatment_train)\n",
    "\n",
    "print(show_qini_score(two_rf_models.predict(X_val), y_val, treatment_val))"
   ]
  },
  {
   "cell_type": "markdown",
   "metadata": {
    "id": "kGzh91hGx0pW"
   },
   "source": [
    "# Two depends models(X-learner)"
   ]
  },
  {
   "cell_type": "markdown",
   "metadata": {
    "id": "WZkner77x0pX"
   },
   "source": [
    "## ddr_control"
   ]
  },
  {
   "cell_type": "code",
   "execution_count": 11,
   "metadata": {
    "id": "HXhYgjHjx0pX",
    "outputId": "7caddad4-f7e6-4693-b8c7-17e129f667f5"
   },
   "outputs": [
    {
     "name": "stdout",
     "output_type": "stream",
     "text": [
      "qini score 0.2336718328799594\n"
     ]
    }
   ],
   "source": [
    "control_model = CatBoostClassifier(random_seed=RANDOM_SEED, verbose=0)\n",
    "treatment_model = CatBoostClassifier(random_seed=RANDOM_SEED, verbose=0)\n",
    "\n",
    "two_depends_models = TwoModels(treatment_model, control_model, method='ddr_control')\n",
    "two_depends_models.fit(X_train, y_train, treatment_train)\n",
    "\n",
    "print(show_qini_score(two_depends_models.predict(X_val), y_val, treatment_val))"
   ]
  },
  {
   "cell_type": "markdown",
   "metadata": {
    "id": "QHQWQjiwx0pY"
   },
   "source": [
    "## ddr_treatment"
   ]
  },
  {
   "cell_type": "code",
   "execution_count": 13,
   "metadata": {
    "id": "eEm-maf1x0pY",
    "outputId": "ad3f90f7-53ef-468c-f057-bf3cffc9420a"
   },
   "outputs": [
    {
     "name": "stdout",
     "output_type": "stream",
     "text": [
      "qini score 0.24000910789724617\n"
     ]
    }
   ],
   "source": [
    "control_model = CatBoostClassifier(random_seed=RANDOM_SEED, verbose=0)\n",
    "treatment_model = CatBoostClassifier(random_seed=RANDOM_SEED, verbose=0)\n",
    "\n",
    "two_depends_models = TwoModels(treatment_model, control_model, method='ddr_treatment')\n",
    "two_depends_models.fit(X_train, y_train, treatment_train)\n",
    "\n",
    "print(show_qini_score(two_depends_models.predict(X_val), y_val, treatment_val))"
   ]
  },
  {
   "cell_type": "markdown",
   "metadata": {
    "id": "cV5w0yNJx0pZ"
   },
   "source": [
    "## Class Transformation"
   ]
  },
  {
   "cell_type": "code",
   "execution_count": 14,
   "metadata": {
    "id": "S_X1si-kx0pZ",
    "outputId": "8d1ad7e9-7466-4271-a7e4-f380223d75d3"
   },
   "outputs": [
    {
     "name": "stderr",
     "output_type": "stream",
     "text": [
      "It is recommended to use this approach on treatment balanced data. Current sample size is unbalanced.\n"
     ]
    },
    {
     "name": "stdout",
     "output_type": "stream",
     "text": [
      "qini score 0.2202263091786293\n"
     ]
    }
   ],
   "source": [
    "model = CatBoostClassifier(random_seed=RANDOM_SEED, verbose=0)\n",
    "class_transformation_model = ClassTransformation(model)\n",
    "\n",
    "class_transformation_model.fit(X_train, y_train, treatment_train)\n",
    "print(show_qini_score(class_transformation_model.predict(X_val), y_val, treatment_val))"
   ]
  },
  {
   "cell_type": "markdown",
   "metadata": {
    "id": "RR6eWAUUx0pb"
   },
   "source": [
    "# Uplift trees\n",
    "# Preprocessing (causalml models)"
   ]
  },
  {
   "cell_type": "code",
   "execution_count": 57,
   "metadata": {
    "id": "WtOWPL6zx0pb"
   },
   "outputs": [],
   "source": [
    "X = train.drop(['id', 'conversion'], axis=1)\n",
    "y = train['conversion'].copy()\n",
    "treatment = X['treatment_group'].copy()"
   ]
  },
  {
   "cell_type": "code",
   "execution_count": 58,
   "metadata": {
    "id": "3H7qyvNdx0pc",
    "outputId": "7a1306f4-0540-439e-8b2b-2e33891cb35d"
   },
   "outputs": [
    {
     "name": "stderr",
     "output_type": "stream",
     "text": [
      "\n",
      "A value is trying to be set on a copy of a slice from a DataFrame\n",
      "\n",
      "See the caveats in the documentation: https://pandas.pydata.org/pandas-docs/stable/user_guide/indexing.html#returning-a-view-versus-a-copy\n"
     ]
    }
   ],
   "source": [
    "X_train, X_val, y_train, y_val = train_test_split(X, y, test_size=0.3, random_state=RANDOM_SEED)\n",
    "\n",
    "treatment_train = X_train['treatment_group'].copy()\n",
    "treatment_val = X_val['treatment_group'].copy()\n",
    "\n",
    "X_train.drop(['treatment_group'], inplace=True, axis=1)\n",
    "X_val.drop(['treatment_group'], inplace=True, axis=1)\n",
    "\n",
    "X_test = test.drop(['id', 'treatment_group'], axis=1) \n",
    "\n",
    "X.drop(['treatment_group'], axis=1, inplace=True)"
   ]
  },
  {
   "cell_type": "markdown",
   "metadata": {},
   "source": [
    "## UpliftTreeClassifier"
   ]
  },
  {
   "cell_type": "code",
   "execution_count": 38,
   "metadata": {
    "id": "dd_QehS5x0pc"
   },
   "outputs": [
    {
     "name": "stdout",
     "output_type": "stream",
     "text": [
      "Wall time: 4min 32s\n"
     ]
    }
   ],
   "source": [
    "%%time\n",
    "\n",
    "uplift_model = UpliftTreeClassifier(control_name='control')\n",
    "uplift_model.fit(X_train.values, treatment=treatment_train.values, y=y_train.values)"
   ]
  },
  {
   "cell_type": "code",
   "execution_count": 42,
   "metadata": {
    "id": "czxaBpqBx0pc"
   },
   "outputs": [],
   "source": [
    "def binarize_treatment_group(group):\n",
    "    if group == 'treatment':\n",
    "        return 1\n",
    "    else:\n",
    "        return 0"
   ]
  },
  {
   "cell_type": "code",
   "execution_count": 59,
   "metadata": {
    "id": "VCnnolhIx0pd",
    "outputId": "d103df5e-361f-4fed-c9fd-db2639a3c8af"
   },
   "outputs": [
    {
     "name": "stdout",
     "output_type": "stream",
     "text": [
      "qini score 0.04034134436562256\n"
     ]
    }
   ],
   "source": [
    "pred = list(map(binarize_treatment_group, uplift_model.predict(X_val.values)[0]))\n",
    "treatment_val = treatment_val.map({'treatment':1, 'control':'0'}).astype(int)\n",
    "print(show_qini_score(pred, y_val, treatment_val))"
   ]
  },
  {
   "cell_type": "markdown",
   "metadata": {},
   "source": [
    "## UpliftRandomForestClassifier"
   ]
  },
  {
   "cell_type": "code",
   "execution_count": 60,
   "metadata": {
    "id": "tMd4dZOBx0pd",
    "outputId": "68257eca-e520-4cc5-a8ad-b2839bff23f7"
   },
   "outputs": [
    {
     "name": "stdout",
     "output_type": "stream",
     "text": [
      "Wall time: 14min 16s\n"
     ]
    }
   ],
   "source": [
    "%%time\n",
    "uplift_model = UpliftRandomForestClassifier(control_name='control', max_features=8, n_estimators=20, max_depth=6)\n",
    "\n",
    "uplift_model.fit(X_train.values, treatment=treatment_train.values, y=y_train.values)"
   ]
  },
  {
   "cell_type": "code",
   "execution_count": 62,
   "metadata": {
    "id": "CAIeZwcox0pd",
    "outputId": "aa3b16f2-47e6-4a58-f961-7ab7824d074e"
   },
   "outputs": [
    {
     "name": "stdout",
     "output_type": "stream",
     "text": [
      "qini score 0.13268968972369993\n"
     ]
    }
   ],
   "source": [
    "pred = uplift_model.predict(X_val.values)[:, 0]\n",
    "print(show_qini_score(pred, y_val, treatment_val))"
   ]
  }
 ],
 "metadata": {
  "colab": {
   "collapsed_sections": [
    "WZkner77x0pX",
    "QHQWQjiwx0pY",
    "cV5w0yNJx0pZ",
    "Mv8zOptOx0pe",
    "p5vxRNaOx0pf",
    "2n4T0IRqx0pf",
    "TGcCF9OJx0pg",
    "9qVnWcsYx0ph"
   ],
   "name": "FirstSolution.ipynb",
   "provenance": []
  },
  "kernelspec": {
   "display_name": "Python 3",
   "language": "python",
   "name": "python3"
  },
  "language_info": {
   "codemirror_mode": {
    "name": "ipython",
    "version": 3
   },
   "file_extension": ".py",
   "mimetype": "text/x-python",
   "name": "python",
   "nbconvert_exporter": "python",
   "pygments_lexer": "ipython3",
   "version": "3.7.6"
  }
 },
 "nbformat": 4,
 "nbformat_minor": 4
}
